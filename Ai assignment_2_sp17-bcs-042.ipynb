{
  "nbformat": 4,
  "nbformat_minor": 0,
  "metadata": {
    "colab": {
      "name": "Assignment 2 Regression.ipynb",
      "provenance": [],
      "collapsed_sections": []
    },
    "kernelspec": {
      "name": "python3",
      "display_name": "Python 3"
    },
    "language_info": {
      "name": "python"
    }
  },
  "cells": [
    {
      "cell_type": "code",
      "metadata": {
        "id": "lHdxMkpWBqmO"
      },
      "source": [
        "import numpy as np\n",
        "import pandas as pd\n",
        "import matplotlib.pyplot as plt\n",
        "import statistics as st\n",
        "from sklearn.model_selection import train_test_split\n",
        "plt.rcParams['figure.figsize'] = (5.0, 5.0)\n"
      ],
      "execution_count": null,
      "outputs": []
    },
    {
      "cell_type": "code",
      "metadata": {
        "colab": {
          "base_uri": "https://localhost:8080/",
          "height": 387
        },
        "id": "7p9UNmYFCJmM",
        "outputId": "9825867f-4867-4b8a-857e-479edffe990f"
      },
      "source": [
        "data = pd.read_csv('/content/drive/MyDrive/lin_reg_data.csv')\n",
        "data.head()"
      ],
      "execution_count": null,
      "outputs": [
        {
          "output_type": "error",
          "ename": "FileNotFoundError",
          "evalue": "ignored",
          "traceback": [
            "\u001b[0;31m---------------------------------------------------------------------------\u001b[0m",
            "\u001b[0;31mFileNotFoundError\u001b[0m                         Traceback (most recent call last)",
            "\u001b[0;32m<ipython-input-3-c08bdc5fd014>\u001b[0m in \u001b[0;36m<module>\u001b[0;34m()\u001b[0m\n\u001b[0;32m----> 1\u001b[0;31m \u001b[0mdata\u001b[0m \u001b[0;34m=\u001b[0m \u001b[0mpd\u001b[0m\u001b[0;34m.\u001b[0m\u001b[0mread_csv\u001b[0m\u001b[0;34m(\u001b[0m\u001b[0;34m'/content/drive/MyDrive/lin_reg_data.csv'\u001b[0m\u001b[0;34m)\u001b[0m\u001b[0;34m\u001b[0m\u001b[0;34m\u001b[0m\u001b[0m\n\u001b[0m\u001b[1;32m      2\u001b[0m \u001b[0mdata\u001b[0m\u001b[0;34m.\u001b[0m\u001b[0mhead\u001b[0m\u001b[0;34m(\u001b[0m\u001b[0;34m)\u001b[0m\u001b[0;34m\u001b[0m\u001b[0;34m\u001b[0m\u001b[0m\n",
            "\u001b[0;32m/usr/local/lib/python3.7/dist-packages/pandas/io/parsers.py\u001b[0m in \u001b[0;36mread_csv\u001b[0;34m(filepath_or_buffer, sep, delimiter, header, names, index_col, usecols, squeeze, prefix, mangle_dupe_cols, dtype, engine, converters, true_values, false_values, skipinitialspace, skiprows, skipfooter, nrows, na_values, keep_default_na, na_filter, verbose, skip_blank_lines, parse_dates, infer_datetime_format, keep_date_col, date_parser, dayfirst, cache_dates, iterator, chunksize, compression, thousands, decimal, lineterminator, quotechar, quoting, doublequote, escapechar, comment, encoding, dialect, error_bad_lines, warn_bad_lines, delim_whitespace, low_memory, memory_map, float_precision)\u001b[0m\n\u001b[1;32m    686\u001b[0m     )\n\u001b[1;32m    687\u001b[0m \u001b[0;34m\u001b[0m\u001b[0m\n\u001b[0;32m--> 688\u001b[0;31m     \u001b[0;32mreturn\u001b[0m \u001b[0m_read\u001b[0m\u001b[0;34m(\u001b[0m\u001b[0mfilepath_or_buffer\u001b[0m\u001b[0;34m,\u001b[0m \u001b[0mkwds\u001b[0m\u001b[0;34m)\u001b[0m\u001b[0;34m\u001b[0m\u001b[0;34m\u001b[0m\u001b[0m\n\u001b[0m\u001b[1;32m    689\u001b[0m \u001b[0;34m\u001b[0m\u001b[0m\n\u001b[1;32m    690\u001b[0m \u001b[0;34m\u001b[0m\u001b[0m\n",
            "\u001b[0;32m/usr/local/lib/python3.7/dist-packages/pandas/io/parsers.py\u001b[0m in \u001b[0;36m_read\u001b[0;34m(filepath_or_buffer, kwds)\u001b[0m\n\u001b[1;32m    452\u001b[0m \u001b[0;34m\u001b[0m\u001b[0m\n\u001b[1;32m    453\u001b[0m     \u001b[0;31m# Create the parser.\u001b[0m\u001b[0;34m\u001b[0m\u001b[0;34m\u001b[0m\u001b[0;34m\u001b[0m\u001b[0m\n\u001b[0;32m--> 454\u001b[0;31m     \u001b[0mparser\u001b[0m \u001b[0;34m=\u001b[0m \u001b[0mTextFileReader\u001b[0m\u001b[0;34m(\u001b[0m\u001b[0mfp_or_buf\u001b[0m\u001b[0;34m,\u001b[0m \u001b[0;34m**\u001b[0m\u001b[0mkwds\u001b[0m\u001b[0;34m)\u001b[0m\u001b[0;34m\u001b[0m\u001b[0;34m\u001b[0m\u001b[0m\n\u001b[0m\u001b[1;32m    455\u001b[0m \u001b[0;34m\u001b[0m\u001b[0m\n\u001b[1;32m    456\u001b[0m     \u001b[0;32mif\u001b[0m \u001b[0mchunksize\u001b[0m \u001b[0;32mor\u001b[0m \u001b[0miterator\u001b[0m\u001b[0;34m:\u001b[0m\u001b[0;34m\u001b[0m\u001b[0;34m\u001b[0m\u001b[0m\n",
            "\u001b[0;32m/usr/local/lib/python3.7/dist-packages/pandas/io/parsers.py\u001b[0m in \u001b[0;36m__init__\u001b[0;34m(self, f, engine, **kwds)\u001b[0m\n\u001b[1;32m    946\u001b[0m             \u001b[0mself\u001b[0m\u001b[0;34m.\u001b[0m\u001b[0moptions\u001b[0m\u001b[0;34m[\u001b[0m\u001b[0;34m\"has_index_names\"\u001b[0m\u001b[0;34m]\u001b[0m \u001b[0;34m=\u001b[0m \u001b[0mkwds\u001b[0m\u001b[0;34m[\u001b[0m\u001b[0;34m\"has_index_names\"\u001b[0m\u001b[0;34m]\u001b[0m\u001b[0;34m\u001b[0m\u001b[0;34m\u001b[0m\u001b[0m\n\u001b[1;32m    947\u001b[0m \u001b[0;34m\u001b[0m\u001b[0m\n\u001b[0;32m--> 948\u001b[0;31m         \u001b[0mself\u001b[0m\u001b[0;34m.\u001b[0m\u001b[0m_make_engine\u001b[0m\u001b[0;34m(\u001b[0m\u001b[0mself\u001b[0m\u001b[0;34m.\u001b[0m\u001b[0mengine\u001b[0m\u001b[0;34m)\u001b[0m\u001b[0;34m\u001b[0m\u001b[0;34m\u001b[0m\u001b[0m\n\u001b[0m\u001b[1;32m    949\u001b[0m \u001b[0;34m\u001b[0m\u001b[0m\n\u001b[1;32m    950\u001b[0m     \u001b[0;32mdef\u001b[0m \u001b[0mclose\u001b[0m\u001b[0;34m(\u001b[0m\u001b[0mself\u001b[0m\u001b[0;34m)\u001b[0m\u001b[0;34m:\u001b[0m\u001b[0;34m\u001b[0m\u001b[0;34m\u001b[0m\u001b[0m\n",
            "\u001b[0;32m/usr/local/lib/python3.7/dist-packages/pandas/io/parsers.py\u001b[0m in \u001b[0;36m_make_engine\u001b[0;34m(self, engine)\u001b[0m\n\u001b[1;32m   1178\u001b[0m     \u001b[0;32mdef\u001b[0m \u001b[0m_make_engine\u001b[0m\u001b[0;34m(\u001b[0m\u001b[0mself\u001b[0m\u001b[0;34m,\u001b[0m \u001b[0mengine\u001b[0m\u001b[0;34m=\u001b[0m\u001b[0;34m\"c\"\u001b[0m\u001b[0;34m)\u001b[0m\u001b[0;34m:\u001b[0m\u001b[0;34m\u001b[0m\u001b[0;34m\u001b[0m\u001b[0m\n\u001b[1;32m   1179\u001b[0m         \u001b[0;32mif\u001b[0m \u001b[0mengine\u001b[0m \u001b[0;34m==\u001b[0m \u001b[0;34m\"c\"\u001b[0m\u001b[0;34m:\u001b[0m\u001b[0;34m\u001b[0m\u001b[0;34m\u001b[0m\u001b[0m\n\u001b[0;32m-> 1180\u001b[0;31m             \u001b[0mself\u001b[0m\u001b[0;34m.\u001b[0m\u001b[0m_engine\u001b[0m \u001b[0;34m=\u001b[0m \u001b[0mCParserWrapper\u001b[0m\u001b[0;34m(\u001b[0m\u001b[0mself\u001b[0m\u001b[0;34m.\u001b[0m\u001b[0mf\u001b[0m\u001b[0;34m,\u001b[0m \u001b[0;34m**\u001b[0m\u001b[0mself\u001b[0m\u001b[0;34m.\u001b[0m\u001b[0moptions\u001b[0m\u001b[0;34m)\u001b[0m\u001b[0;34m\u001b[0m\u001b[0;34m\u001b[0m\u001b[0m\n\u001b[0m\u001b[1;32m   1181\u001b[0m         \u001b[0;32melse\u001b[0m\u001b[0;34m:\u001b[0m\u001b[0;34m\u001b[0m\u001b[0;34m\u001b[0m\u001b[0m\n\u001b[1;32m   1182\u001b[0m             \u001b[0;32mif\u001b[0m \u001b[0mengine\u001b[0m \u001b[0;34m==\u001b[0m \u001b[0;34m\"python\"\u001b[0m\u001b[0;34m:\u001b[0m\u001b[0;34m\u001b[0m\u001b[0;34m\u001b[0m\u001b[0m\n",
            "\u001b[0;32m/usr/local/lib/python3.7/dist-packages/pandas/io/parsers.py\u001b[0m in \u001b[0;36m__init__\u001b[0;34m(self, src, **kwds)\u001b[0m\n\u001b[1;32m   2008\u001b[0m         \u001b[0mkwds\u001b[0m\u001b[0;34m[\u001b[0m\u001b[0;34m\"usecols\"\u001b[0m\u001b[0;34m]\u001b[0m \u001b[0;34m=\u001b[0m \u001b[0mself\u001b[0m\u001b[0;34m.\u001b[0m\u001b[0musecols\u001b[0m\u001b[0;34m\u001b[0m\u001b[0;34m\u001b[0m\u001b[0m\n\u001b[1;32m   2009\u001b[0m \u001b[0;34m\u001b[0m\u001b[0m\n\u001b[0;32m-> 2010\u001b[0;31m         \u001b[0mself\u001b[0m\u001b[0;34m.\u001b[0m\u001b[0m_reader\u001b[0m \u001b[0;34m=\u001b[0m \u001b[0mparsers\u001b[0m\u001b[0;34m.\u001b[0m\u001b[0mTextReader\u001b[0m\u001b[0;34m(\u001b[0m\u001b[0msrc\u001b[0m\u001b[0;34m,\u001b[0m \u001b[0;34m**\u001b[0m\u001b[0mkwds\u001b[0m\u001b[0;34m)\u001b[0m\u001b[0;34m\u001b[0m\u001b[0;34m\u001b[0m\u001b[0m\n\u001b[0m\u001b[1;32m   2011\u001b[0m         \u001b[0mself\u001b[0m\u001b[0;34m.\u001b[0m\u001b[0munnamed_cols\u001b[0m \u001b[0;34m=\u001b[0m \u001b[0mself\u001b[0m\u001b[0;34m.\u001b[0m\u001b[0m_reader\u001b[0m\u001b[0;34m.\u001b[0m\u001b[0munnamed_cols\u001b[0m\u001b[0;34m\u001b[0m\u001b[0;34m\u001b[0m\u001b[0m\n\u001b[1;32m   2012\u001b[0m \u001b[0;34m\u001b[0m\u001b[0m\n",
            "\u001b[0;32mpandas/_libs/parsers.pyx\u001b[0m in \u001b[0;36mpandas._libs.parsers.TextReader.__cinit__\u001b[0;34m()\u001b[0m\n",
            "\u001b[0;32mpandas/_libs/parsers.pyx\u001b[0m in \u001b[0;36mpandas._libs.parsers.TextReader._setup_parser_source\u001b[0;34m()\u001b[0m\n",
            "\u001b[0;31mFileNotFoundError\u001b[0m: [Errno 2] No such file or directory: '/content/drive/MyDrive/lin_reg_data.csv'"
          ]
        }
      ]
    },
    {
      "cell_type": "code",
      "metadata": {
        "id": "zTFypSyTCO1x"
      },
      "source": [
        "class LinearRegression:\n",
        "    def __init__(self, X_data, Y_data, l, iterations):  # initialize all parameters\n",
        "        self.X = X_data\n",
        "        self.Y = Y_data\n",
        "        # weight and bias\n",
        "        self.m = 0\n",
        "        self.c = 0\n",
        "        self.L = l  # learning rate\n",
        "        self.iter = iterations  # num of iterations\n",
        "        self.n = float(len(self.X))  # size of data\n",
        "\n",
        "    def cost(self, pred_y):  # cost function\n",
        "        cost = np.sum(np.square(self.Y-pred_y))/(2*self.n)\n",
        "        return(cost)\n",
        "\n",
        "    def fit(self):\n",
        "        self.history = np.zeros(self.iter)\n",
        "        # updating values of m and c\n",
        "        for i in range(self.iter):\n",
        "            pred_y = self.m*self.X + self.c\n",
        "            # print(pred_y)\n",
        "            Dm = (-2/self.n)*(self.X*(self.Y-pred_y))\n",
        "            Dc = (-2/self.n)*(self.Y-pred_y)\n",
        "            # update\n",
        "            self.m = self.m-Dm*self.L\n",
        "            self.c = self.c-Dc*self.L\n",
        "            # cost is calculated for every iteration\n",
        "            self.history[i] = self.cost(pred_y)\n",
        "            self.mse = self.MSE(self.Y, pred_y)\n",
        "\n",
        "    def MSE(self, pred_y, Y):\n",
        "        errors = Y-pred_y  # error is the difference between actual and predicted value\n",
        "        # mean of sum of square of erros\n",
        "        mse = np.sum(np.square(errors))/self.n\n",
        "        return mse\n",
        "\n",
        "    def results(self):\n",
        "        # plt.title('minimisation of errors across the iterations')\n",
        "        # a1.plot(self.history, color='red', label='Linear Regression')\n",
        "\n",
        "        # making predictions\n",
        "        final_y = self.m*self.X + self.c\n",
        "        # plt.scatter(self.X, self.Y)\n",
        "        # plt.title('regrssion line')\n",
        "        # a2.plot([min(self.X), max(self.X)], [min(final_y), max(\n",
        "        #     final_y)], color='red', label='Linear Regression')  # plotting the red line\n",
        "\n",
        "        print('Mean Squared Error=', self.mse)\n",
        "        return final_y\n"
      ],
      "execution_count": null,
      "outputs": []
    },
    {
      "cell_type": "code",
      "metadata": {
        "id": "VQ_cAeAfCUcy"
      },
      "source": [
        "class RidgeLinearRegression:\n",
        "    def __init__(self, X_data, Y_data, l, l2, iterations):  # initialize all parameters\n",
        "        self.X = X_data\n",
        "        self.Y = Y_data\n",
        "        # weight and bias\n",
        "        self.m = 0\n",
        "        self.c = 0\n",
        "        self.L = l  # learning rate\n",
        "        self.l2 = l2  # regularization parameter\n",
        "        self.iter = iterations  # num of iterations\n",
        "        self.n = float(len(self.X))  # size of data\n",
        "\n",
        "    def cost(self, pred_y):  # cost function\n",
        "        cost = np.sum(np.square(self.Y-pred_y))/(2*self.n) + \\\n",
        "            self.l2*np.sum(np.square(self.m))\n",
        "        return (cost)\n",
        "\n",
        "    def fit(self):\n",
        "        self.history = np.zeros(self.iter)\n",
        "        # updating values of m and c\n",
        "        for i in range(self.iter):\n",
        "            pred_y = self.m*self.X + self.c\n",
        "            # print(pred_y)\n",
        "            Dm = (-2/self.n)*(self.X*(self.Y-pred_y))+2*self.l2*self.m\n",
        "            Dc = (-2/self.n)*(self.Y-pred_y)\n",
        "            # update\n",
        "            self.m = self.m-Dm*self.L\n",
        "            self.c = self.c-Dc*self.L\n",
        "            # cost is calculated for every iteration\n",
        "            self.history[i] = self.cost(pred_y)\n",
        "        self.mse = self.MSE(self.Y, pred_y)\n",
        "\n",
        "    def MSE(self, pred_y, Y):\n",
        "        errors = Y-pred_y  # error is the difference between actual and predicted value\n",
        "        # mean of sum of square of erros\n",
        "        mse = np.sum(np.square(errors))/self.n\n",
        "        return mse\n",
        "\n",
        "    def results(self):\n",
        "        # plt.title('minimisation of errors across the iterations')\n",
        "        # a1.plot(self.history, color = 'blue', label='Ridge Linear Regression')\n",
        "\n",
        "        # making predictions\n",
        "        final_y = self.m*self.X + self.c\n",
        "        # plt.scatter(self.X, self.Y)\n",
        "        # plt.title('regrssion line')\n",
        "        # a2.plot([min(self.X), max(self.X)], [min(final_y), max(\n",
        "        #     final_y)], color='blue', label='Ridge Linear Regression')  # plotting the red line\n",
        "\n",
        "        print('Mean Squared Error=', self.mse)\n",
        "        return final_y"
      ],
      "execution_count": null,
      "outputs": []
    },
    {
      "cell_type": "code",
      "metadata": {
        "id": "eSoKNalFCXSX"
      },
      "source": [
        "class LassoLinearRegression:\n",
        "    def __init__(self, X_data, Y_data, l, l1, iterations):  # initialize all parameters\n",
        "        self.X = X_data\n",
        "        self.Y = Y_data\n",
        "        # weight and bias\n",
        "        self.m = np.random.randn(X_data.shape[0])\n",
        "        self.c = 0\n",
        "        self.L = l  # learning rate\n",
        "        self.l1 = l1  # regularization parameter\n",
        "        self.iter = iterations  # num of iterations\n",
        "        self.n = float(len(X_data))  # size of data\n",
        "\n",
        "    def cost(self, pred_y):  # cost function\n",
        "        cost = np.sum(np.square(self.Y-pred_y)) / \\\n",
        "            (2*self.n) + self.l1*np.sum(self.m)\n",
        "        return(cost)\n",
        "\n",
        "    def fit(self):\n",
        "        self.history = np.zeros(self.iter)\n",
        "        pred_y = np.zeros((self.Y.shape))\n",
        "        for j in range(self.iter):\n",
        "            for i in range(0, len(self.X)):\n",
        "                pred_y[i] = self.m[i]*self.X[i]+self.c\n",
        "                if self.m[i] > 0:\n",
        "                    Dm = (-2/self.n) * \\\n",
        "                        (self.X[i]*(self.Y[i]-pred_y[i]))-self.l1\n",
        "                else:\n",
        "                    Dm = (-2/self.n) * \\\n",
        "                        (self.X[i]*(self.Y[i]-pred_y[i]))+self.l1\n",
        "\n",
        "                Dc = (-2/self.n)*(self.Y[i]-pred_y[i])\n",
        "                # update\n",
        "                self.m[i] = self.m[i]-Dm*self.L\n",
        "                self.c = self.c-Dc*self.L\n",
        "            self.history[j] = self.cost(pred_y)\n",
        "        self.mse = self.MSE(self.Y, pred_y)\n",
        "\n",
        "    def MSE(self, pred_y, Y):\n",
        "        errors = Y-pred_y  # error is the difference between actual and predicted value\n",
        "        # mean of sum of square of erros\n",
        "        mse = np.sum(np.square(errors))/self.n\n",
        "        return mse\n",
        "\n",
        "    def results(self):\n",
        "\n",
        "        # plt.title('minimisation of errors across the iterations')\n",
        "        # a1.plot(self.history, color='green', label='Lasso Linear Regression')\n",
        "\n",
        "        # making predictions\n",
        "        final_y = self.m*self.X + self.c\n",
        "        # plt.title('regrssion line')\n",
        "        # a2.plot([min(self.X), max(self.X)], [min(final_y), max(\n",
        "        #     final_y)], color='green', label='Lasso Linear Regression')  # plotting the red line\n",
        "\n",
        "        print('Mean Squared Error=', self.mse)\n",
        "        return final_y"
      ],
      "execution_count": null,
      "outputs": []
    },
    {
      "cell_type": "code",
      "metadata": {
        "id": "AmWG1Ic6CbUm"
      },
      "source": [
        "X = data.iloc[:, 0]\n",
        "Y = data.iloc[:, 1]\n",
        "\n",
        "x_train, x_test, y_train, y_test = train_test_split(\n",
        "    X, Y, test_size=0.5, random_state=42)\n"
      ],
      "execution_count": null,
      "outputs": []
    },
    {
      "cell_type": "code",
      "metadata": {
        "colab": {
          "base_uri": "https://localhost:8080/"
        },
        "id": "Uh4TGKB8Cfja",
        "outputId": "b059c791-45d8-436a-f82c-b5a87c829ee6"
      },
      "source": [
        "type (np.array(x_test))"
      ],
      "execution_count": null,
      "outputs": [
        {
          "output_type": "execute_result",
          "data": {
            "text/plain": [
              "numpy.ndarray"
            ]
          },
          "metadata": {
            "tags": []
          },
          "execution_count": 64
        }
      ]
    },
    {
      "cell_type": "code",
      "metadata": {
        "id": "antc1iqAD4Nu"
      },
      "source": [
        "fig = plt.figure(figsize=(20, 20))\n",
        "a1 = fig.add_subplot(211)\n",
        "a2 = fig.add_subplot(212)\n",
        "a3 = fig.add_subplot(211)"
      ],
      "execution_count": null,
      "outputs": []
    },
    {
      "cell_type": "code",
      "metadata": {
        "colab": {
          "base_uri": "https://localhost:8080/",
          "height": 387
        },
        "id": "3AeoRyN7CpWv",
        "outputId": "1cc7aff1-7fb8-4e1a-8430-ba95fdea41f1"
      },
      "source": [
        "l = LinearRegression(np.array(x_train), np.array(y_train), 0.005, 50)\n",
        "la = LassoLinearRegression(np.array(x_train), np.array(y_train), 0.005, 1, 50)\n",
        "r = RidgeLinearRegression(np.array(x_train), np.array(y_train), 0.005, 1, 50)\n",
        "la.fit()\n",
        "la_res = la.results()\n",
        "r.fit()\n",
        "r_res = r.results()\n",
        "l.fit()\n",
        "l_res = l.results()\n",
        "\n",
        "plt.scatter(x_train, y_train, c='black')\n",
        "plt.plot([min(r.X), max(r.X)], [min(r_res), max(r_res)], color='green', label='Ridge Linear Regression')\n",
        "plt.plot([min(l.X), max(l.X)], [min(l_res), max(l_res)], color='red', label='Lasso Linear Regression')\n",
        "plt.plot([min(la.X), max(la.X)], [min(la_res), max(la_res)], color='blue', label='Linear Regression')\n",
        "\n",
        "plt.legend()\n",
        "plt.title('On Training Set')\n",
        "plt.show()"
      ],
      "execution_count": null,
      "outputs": [
        {
          "output_type": "stream",
          "text": [
            "Mean Squared Error= 0.28197110196795694\n",
            "Mean Squared Error= 2.8936427145240047\n",
            "Mean Squared Error= 0.00010031219101202956\n"
          ],
          "name": "stdout"
        },
        {
          "output_type": "display_data",
          "data": {
            "image/png": "[encoded data removed]",
            "text/plain": [
              "<Figure size 360x360 with 1 Axes>"
            ]
          },
          "metadata": {
            "tags": [],
            "needs_background": "light"
          }
        }
      ]
    },
    {
      "cell_type": "code",
      "metadata": {
        "id": "pg6DBaWJCt8v",
        "colab": {
          "base_uri": "https://localhost:8080/",
          "height": 229
        },
        "outputId": "2157f8fb-d72d-4b0a-ef0a-119671072414"
      },
      "source": [
        "la.X = x_test\n",
        "la.Y = y_test\n",
        "la_res = la.results()\n",
        "r.X = x_test\n",
        "r.Y = y_test\n",
        "r_res = r.results()\n",
        "l.X = x_test\n",
        "l.Y = y_test\n",
        "l_res = l.results()\n",
        "\n",
        "plt.scatter(x_test, y_test, c='black')\n",
        "plt.plot([min(r.X), max(r.X)], [min(r_res), max(r_res)], color='green', label='Ridge Linear Regression')\n",
        "plt.plot([min(l.X), max(l.X)], [min(l_res), max(l_res)], color='red', label='Lasso Linear Regression')\n",
        "plt.plot([min(la.X), max(la.X)], [min(la_res), max(la_res)], color='blue', label='Linear Regression')\n",
        "\n",
        "plt.legend()\n",
        "plt.title('On testing Set')\n",
        "plt.show()"
      ],
      "execution_count": null,
      "outputs": [
        {
          "output_type": "error",
          "ename": "NameError",
          "evalue": "ignored",
          "traceback": [
            "\u001b[0;31m---------------------------------------------------------------------------\u001b[0m",
            "\u001b[0;31mNameError\u001b[0m                                 Traceback (most recent call last)",
            "\u001b[0;32m<ipython-input-1-cd81dcc571b8>\u001b[0m in \u001b[0;36m<module>\u001b[0;34m()\u001b[0m\n\u001b[0;32m----> 1\u001b[0;31m \u001b[0mla\u001b[0m\u001b[0;34m.\u001b[0m\u001b[0mX\u001b[0m \u001b[0;34m=\u001b[0m \u001b[0mx_test\u001b[0m\u001b[0;34m\u001b[0m\u001b[0;34m\u001b[0m\u001b[0m\n\u001b[0m\u001b[1;32m      2\u001b[0m \u001b[0mla\u001b[0m\u001b[0;34m.\u001b[0m\u001b[0mY\u001b[0m \u001b[0;34m=\u001b[0m \u001b[0my_test\u001b[0m\u001b[0;34m\u001b[0m\u001b[0;34m\u001b[0m\u001b[0m\n\u001b[1;32m      3\u001b[0m \u001b[0mla_res\u001b[0m \u001b[0;34m=\u001b[0m \u001b[0mla\u001b[0m\u001b[0;34m.\u001b[0m\u001b[0mresults\u001b[0m\u001b[0;34m(\u001b[0m\u001b[0;34m)\u001b[0m\u001b[0;34m\u001b[0m\u001b[0;34m\u001b[0m\u001b[0m\n\u001b[1;32m      4\u001b[0m \u001b[0mr\u001b[0m\u001b[0;34m.\u001b[0m\u001b[0mX\u001b[0m \u001b[0;34m=\u001b[0m \u001b[0mx_test\u001b[0m\u001b[0;34m\u001b[0m\u001b[0;34m\u001b[0m\u001b[0m\n\u001b[1;32m      5\u001b[0m \u001b[0mr\u001b[0m\u001b[0;34m.\u001b[0m\u001b[0mY\u001b[0m \u001b[0;34m=\u001b[0m \u001b[0my_test\u001b[0m\u001b[0;34m\u001b[0m\u001b[0;34m\u001b[0m\u001b[0m\n",
            "\u001b[0;31mNameError\u001b[0m: name 'x_test' is not defined"
          ]
        }
      ]
    }
  ]
}